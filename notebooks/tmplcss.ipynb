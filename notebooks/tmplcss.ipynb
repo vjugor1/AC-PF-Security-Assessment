{
 "cells": [
  {
   "cell_type": "code",
   "execution_count": 1,
   "metadata": {},
   "outputs": [],
   "source": [
    "import numpy as np\n",
    "from matplotlib import pyplot as plt\n",
    "import scipy.optimize as optim\n",
    "from scipy import stats\n",
    "import cvxpy as cp\n",
    "from tqdm import tqdm\n",
    "import json\n",
    "import os\n",
    "import sys\n",
    "import seaborn as sns\n",
    "import pandas as pd\n",
    "from pandapower import networks as pn\n",
    "from pandapower import estimation as est\n",
    "import pandapower as pp\n",
    "from pandapower import OPFNotConverged\n",
    "from scipy.stats import multivariate_normal\n",
    "from copy import deepcopy\n",
    "sys.path.append('..')\n",
    "\n",
    "\n",
    "from src.data_utils import grid_data\n",
    "from src.estimators.adaptive import AdaptiveEstimator\n",
    "from src.estimators.static import SecurityAssessmentEstimator\n",
    "from src.samplers.sampler import Sampler"
   ]
  },
  {
   "cell_type": "markdown",
   "metadata": {},
   "source": [
    "# Read case "
   ]
  },
  {
   "cell_type": "code",
   "execution_count": 2,
   "metadata": {},
   "outputs": [],
   "source": [
    "path_to_saves = '../saves'\n",
    "if not os.path.exists(path_to_saves):\n",
    "    os.makedirs(path_to_saves)"
   ]
  },
  {
   "cell_type": "markdown",
   "metadata": {},
   "source": [
    "# Solve OPF before the action if needed, record resulting p_mw on generators and voltage magnitudes on them"
   ]
  },
  {
   "cell_type": "code",
   "execution_count": 3,
   "metadata": {},
   "outputs": [],
   "source": [
    "net = pn.case30()\n",
    "# pp.runopp(net, numba=True)\n",
    "# net.res_gen\n",
    "# net.gen['p_mw'] = net.res_gen['p_mw']\n",
    "# net.gen['vm_pu'] = net.res_gen['vm_pu']\n",
    "# net.gen"
   ]
  },
  {
   "cell_type": "markdown",
   "metadata": {},
   "source": [
    "# Define fluctuating buses and generators and setup estimators"
   ]
  },
  {
   "cell_type": "code",
   "execution_count": 15,
   "metadata": {},
   "outputs": [],
   "source": [
    "fluct_gen = [0, 1]\n",
    "fluct_load = [0, 1, 2]\n",
    "adaestimator = AdaptiveEstimator(net=net, fluct_gens_idxs=fluct_gen, fluct_loads_idxs=fluct_load, mu_init=np.ones(len(fluct_gen)) * 0, sigma_init=(np.ones(len(fluct_gen))*0.5, np.ones(len(fluct_load))*0.5), batch_size=10)\n",
    "staticestimator = SecurityAssessmentEstimator(net, fluct_gen, fluct_load)"
   ]
  },
  {
   "cell_type": "markdown",
   "metadata": {},
   "source": [
    "# Define sample functions for MC estimation and make estimation with static MC estimator"
   ]
  },
  {
   "cell_type": "code",
   "execution_count": 16,
   "metadata": {},
   "outputs": [],
   "source": [
    "get_sample = lambda: np.random.multivariate_normal(np.zeros(len(fluct_gen)), np.eye(len(fluct_gen)) * 0.5)\n",
    "get_sample_load = lambda: {\"P\": np.random.multivariate_normal(np.zeros(len(fluct_load)), np.eye(len(fluct_load)) * 0.5), \n",
    "                            \"Q\": np.random.multivariate_normal(np.zeros(len(fluct_load)), np.eye(len(fluct_load)) * 0.5), }\n",
    "sampler = Sampler(len(fluct_gen), len(fluct_load), get_sample, get_sample_load).sample()\n",
    "samples = [(next(sampler), ) for i in range(1000)]\n",
    "estimate_static = staticestimator.estimate(samples, parallel=True)"
   ]
  },
  {
   "cell_type": "markdown",
   "metadata": {},
   "source": [
    "# Plots"
   ]
  },
  {
   "cell_type": "code",
   "execution_count": 17,
   "metadata": {},
   "outputs": [
    {
     "data": {
      "image/png": "[encoded data removed]",
      "text/plain": [
       "<Figure size 432x288 with 1 Axes>"
      ]
     },
     "metadata": {
      "needs_background": "light"
     },
     "output_type": "display_data"
    }
   ],
   "source": [
    "mc_estimates = [np.sum(estimate_static[:i]) / i for i in range(1, len(estimate_static))]\n",
    "plt.plot(mc_estimates)\n",
    "if not os.path.exists(path_to_saves):\n",
    "    os.makedirs(path_to_saves)\n",
    "plt.savefig(path_to_saves + \"mc.png\")"
   ]
  },
  {
   "cell_type": "markdown",
   "metadata": {},
   "source": [
    "# Estimate with adaptive one"
   ]
  },
  {
   "cell_type": "code",
   "execution_count": 18,
   "metadata": {},
   "outputs": [],
   "source": [
    "adaestimator.test_samples(1000)"
   ]
  },
  {
   "cell_type": "code",
   "execution_count": null,
   "metadata": {},
   "outputs": [],
   "source": [
    "is_estimates = [np.sum(adaestimator.weightes_outcomes[:i]) / i for i in range(1, adaestimator.n_steps)]\n",
    "plt.plot(is_estimates)\n",
    "if not os.path.exists(path_to_saves):\n",
    "    os.makedirs(path_to_saves)\n",
    "plt.savefig(path_to_saves + \"adaest.png\")"
   ]
  },
  {
   "cell_type": "code",
   "execution_count": 11,
   "metadata": {},
   "outputs": [
    {
     "data": {
      "image/png": "[encoded data removed]",
      "text/plain": [
       "<Figure size 432x288 with 1 Axes>"
      ]
     },
     "metadata": {
      "needs_background": "light"
     },
     "output_type": "display_data"
    }
   ],
   "source": [
    "true_val = mc_estimates[-1]\n",
    "mcs = np.abs(mc_estimates[500:] - true_val)\n",
    "iss = np.abs(is_estimates[500:] - true_val)\n",
    "plt.plot(pd.Series(mcs).rolling(10).mean().values, label='MC abs deviations')\n",
    "plt.plot(pd.Series(iss).rolling(10).mean().values, label='IS abs deviations')\n",
    "plt.legend()\n",
    "plt.grid()"
   ]
  },
  {
   "cell_type": "code",
   "execution_count": null,
   "metadata": {},
   "outputs": [],
   "source": [
    "mus_hist = np.array(adaestimator.mu_history)\n",
    "plt.plot(mus_hist[:, 0], mus_hist[:, 1], alpha=0.6)\n",
    "plt.scatter([mus_hist[:, 0][0]], [mus_hist[:, 1][0]], color='blue', label='first point')\n",
    "plt.scatter([mus_hist[:, 0][-1]], [mus_hist[:, 1][-1]], color='red', label='last point')\n",
    "plt.legend()\n",
    "if not os.path.exists(path_to_saves):\n",
    "    os.makedirs(path_to_saves)\n",
    "plt.savefig(path_to_saves + \"adaest_mu_path.png\")"
   ]
  },
  {
   "cell_type": "code",
   "execution_count": null,
   "metadata": {},
   "outputs": [],
   "source": [
    "sigmas_hist = np.array(adaestimator.sigma_history)[1:]\n",
    "plt.plot(sigmas_hist[:, 0], sigmas_hist[:, 1], alpha=0.6)\n",
    "plt.scatter([sigmas_hist[:, 0][0]], [sigmas_hist[:, 1][0]], color='blue', label='first point')\n",
    "plt.scatter([sigmas_hist[:, 0][-1]], [sigmas_hist[:, 1][-1]], color='red', label='last point')\n",
    "plt.legend()\n",
    "if not os.path.exists(path_to_saves):\n",
    "    os.makedirs(path_to_saves)\n",
    "plt.savefig(path_to_saves + \"adaest_sigma__path.png\")"
   ]
  },
  {
   "cell_type": "code",
   "execution_count": null,
   "metadata": {},
   "outputs": [],
   "source": [
    "# покрасить в feasible / infeasible"
   ]
  },
  {
   "cell_type": "code",
   "execution_count": null,
   "metadata": {},
   "outputs": [],
   "source": []
  },
  {
   "cell_type": "markdown",
   "metadata": {},
   "source": [
    "# Dump further"
   ]
  },
  {
   "cell_type": "markdown",
   "metadata": {},
   "source": [
    "# We can pose that as a searching machine for the WEAKEST area of the grid \n",
    "page rank lol - https://www.sciencedirect.com/science/article/abs/pii/S0378437118309993"
   ]
  },
  {
   "cell_type": "code",
   "execution_count": null,
   "metadata": {},
   "outputs": [],
   "source": [
    "#"
   ]
  }
 ],
 "metadata": {
  "interpreter": {
   "hash": "d444a3350dc4e2327094db8cadbbcafc9f4054d613116ca79683144239545e79"
  },
  "kernelspec": {
   "display_name": "Python 3",
   "language": "python",
   "name": "python3"
  },
  "language_info": {
   "codemirror_mode": {
    "name": "ipython",
    "version": 3
   },
   "file_extension": ".py",
   "mimetype": "text/x-python",
   "name": "python",
   "nbconvert_exporter": "python",
   "pygments_lexer": "ipython3",
   "version": "3.8.3"
  }
 },
 "nbformat": 4,
 "nbformat_minor": 2
}
